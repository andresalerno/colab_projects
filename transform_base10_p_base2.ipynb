{
  "nbformat": 4,
  "nbformat_minor": 0,
  "metadata": {
    "colab": {
      "name": "transform_base10_p_base2.ipynb",
      "provenance": [],
      "authorship_tag": "ABX9TyMKCw9le3yNs7xE2FxAVrOv",
      "include_colab_link": true
    },
    "kernelspec": {
      "name": "python3",
      "display_name": "Python 3"
    }
  },
  "cells": [
    {
      "cell_type": "markdown",
      "metadata": {
        "id": "view-in-github",
        "colab_type": "text"
      },
      "source": [
        "<a href=\"https://colab.research.google.com/github/andresalerno/colab_projects/blob/main/transform_base10_p_base2.ipynb\" target=\"_parent\"><img src=\"https://colab.research.google.com/assets/colab-badge.svg\" alt=\"Open In Colab\"/></a>"
      ]
    },
    {
      "cell_type": "code",
      "metadata": {
        "colab": {
          "base_uri": "https://localhost:8080/"
        },
        "id": "VoUe3RhYsMEu",
        "outputId": "32c1ba85-3428-4546-f0a4-bd1f6cad57fa"
      },
      "source": [
        "val = input('Digite o número: ')\n",
        "print('O valor digitado é ('+val+')_10')\n",
        "\n",
        "val = int(val)\n",
        "num = []\n",
        "\n",
        "num.append(val % 2)\n",
        "val = int(val/2)\n",
        "#print(num)\n",
        "#print(val)\n",
        "\n",
        "while (val >= 1):\n",
        "  num.append(val % 2)\n",
        "  val = int(val/2)\n",
        "  #print(num)\n",
        "  #print(val)\n",
        "\n",
        "# Invertendo os elementos da lista e \n",
        "# salvando na própria lista.\n",
        "num = num[::-1]\n",
        "print(\"Num = (\"+str(num)+\")_2\")"
      ],
      "execution_count": 4,
      "outputs": [
        {
          "output_type": "stream",
          "text": [
            "Digite o número: 347\n",
            "O valor digitado é (347)_10\n",
            "Num = ([1, 0, 1, 0, 1, 1, 0, 1, 1])_2\n"
          ],
          "name": "stdout"
        }
      ]
    }
  ]
}